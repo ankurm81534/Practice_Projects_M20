{
 "cells": [
  {
   "cell_type": "code",
   "execution_count": 1,
   "metadata": {},
   "outputs": [],
   "source": [
    "import numpy as np\n",
    "import pandas as pd\n",
    "import matplotlib.pyplot as plt\n",
    "import seaborn as sns\n",
    "import warnings\n",
    "warnings.filterwarnings('ignore')"
   ]
  },
  {
   "cell_type": "code",
   "execution_count": 2,
   "metadata": {},
   "outputs": [
    {
     "data": {
      "text/html": [
       "<div>\n",
       "<style scoped>\n",
       "    .dataframe tbody tr th:only-of-type {\n",
       "        vertical-align: middle;\n",
       "    }\n",
       "\n",
       "    .dataframe tbody tr th {\n",
       "        vertical-align: top;\n",
       "    }\n",
       "\n",
       "    .dataframe thead th {\n",
       "        text-align: right;\n",
       "    }\n",
       "</style>\n",
       "<table border=\"1\" class=\"dataframe\">\n",
       "  <thead>\n",
       "    <tr style=\"text-align: right;\">\n",
       "      <th></th>\n",
       "      <th>Date</th>\n",
       "      <th>Country</th>\n",
       "      <th>Confirmed</th>\n",
       "      <th>Recovered</th>\n",
       "      <th>Deaths</th>\n",
       "    </tr>\n",
       "  </thead>\n",
       "  <tbody>\n",
       "    <tr>\n",
       "      <th>0</th>\n",
       "      <td>2020-01-22</td>\n",
       "      <td>Afghanistan</td>\n",
       "      <td>0</td>\n",
       "      <td>0</td>\n",
       "      <td>0</td>\n",
       "    </tr>\n",
       "    <tr>\n",
       "      <th>1</th>\n",
       "      <td>2020-01-22</td>\n",
       "      <td>Albania</td>\n",
       "      <td>0</td>\n",
       "      <td>0</td>\n",
       "      <td>0</td>\n",
       "    </tr>\n",
       "    <tr>\n",
       "      <th>2</th>\n",
       "      <td>2020-01-22</td>\n",
       "      <td>Algeria</td>\n",
       "      <td>0</td>\n",
       "      <td>0</td>\n",
       "      <td>0</td>\n",
       "    </tr>\n",
       "    <tr>\n",
       "      <th>3</th>\n",
       "      <td>2020-01-22</td>\n",
       "      <td>Andorra</td>\n",
       "      <td>0</td>\n",
       "      <td>0</td>\n",
       "      <td>0</td>\n",
       "    </tr>\n",
       "    <tr>\n",
       "      <th>4</th>\n",
       "      <td>2020-01-22</td>\n",
       "      <td>Angola</td>\n",
       "      <td>0</td>\n",
       "      <td>0</td>\n",
       "      <td>0</td>\n",
       "    </tr>\n",
       "  </tbody>\n",
       "</table>\n",
       "</div>"
      ],
      "text/plain": [
       "         Date      Country  Confirmed  Recovered  Deaths\n",
       "0  2020-01-22  Afghanistan          0          0       0\n",
       "1  2020-01-22      Albania          0          0       0\n",
       "2  2020-01-22      Algeria          0          0       0\n",
       "3  2020-01-22      Andorra          0          0       0\n",
       "4  2020-01-22       Angola          0          0       0"
      ]
     },
     "execution_count": 2,
     "metadata": {},
     "output_type": "execute_result"
    }
   ],
   "source": [
    "covid = pd.read_csv('aggregate_covid_country.csv')\n",
    "covid.head(5)"
   ]
  },
  {
   "cell_type": "code",
   "execution_count": 3,
   "metadata": {},
   "outputs": [
    {
     "name": "stdout",
     "output_type": "stream",
     "text": [
      "Hungary        126\n",
      "Zimbabwe       126\n",
      "Peru           126\n",
      "Guatemala      126\n",
      "Malaysia       126\n",
      "              ... \n",
      "Saint Lucia    126\n",
      "Poland         126\n",
      "Portugal       126\n",
      "Fiji           126\n",
      "El Salvador    126\n",
      "Name: Country, Length: 188, dtype: int64\n",
      "[126]\n"
     ]
    }
   ],
   "source": [
    "print(covid['Country'].value_counts())\n",
    "print(covid['Country'].value_counts().unique())"
   ]
  },
  {
   "cell_type": "code",
   "execution_count": 4,
   "metadata": {},
   "outputs": [
    {
     "data": {
      "text/plain": [
       "Date         0\n",
       "Country      0\n",
       "Confirmed    0\n",
       "Recovered    0\n",
       "Deaths       0\n",
       "dtype: int64"
      ]
     },
     "execution_count": 4,
     "metadata": {},
     "output_type": "execute_result"
    }
   ],
   "source": [
    "covid.isnull().sum()"
   ]
  },
  {
   "cell_type": "code",
   "execution_count": 5,
   "metadata": {},
   "outputs": [
    {
     "data": {
      "text/plain": [
       "(array([126.,   0.,   0.,   0.,   0., 126.,   0.,   0.,   0., 126.]),\n",
       " array([0. , 0.2, 0.4, 0.6, 0.8, 1. , 1.2, 1.4, 1.6, 1.8, 2. ]),\n",
       " <a list of 10 Patch objects>)"
      ]
     },
     "execution_count": 5,
     "metadata": {},
     "output_type": "execute_result"
    },
    {
     "data": {
      "image/png": "[encoded data removed]",
      "text/plain": [
       "<Figure size 432x288 with 1 Axes>"
      ]
     },
     "metadata": {
      "needs_background": "light"
     },
     "output_type": "display_data"
    }
   ],
   "source": [
    "plt.hist(covid['Country'][(covid['Country'] == 'France') | (covid['Country'] == 'Poland') | (covid['Country'] == 'India')])"
   ]
  },
  {
   "cell_type": "code",
   "execution_count": 6,
   "metadata": {},
   "outputs": [
    {
     "data": {
      "text/plain": [
       "array(['Afghanistan', 'Albania', 'Algeria', 'Andorra', 'Angola',\n",
       "       'Antigua and Barbuda', 'Argentina', 'Armenia', 'Australia',\n",
       "       'Austria', 'Azerbaijan', 'Bahamas', 'Bahrain', 'Bangladesh',\n",
       "       'Barbados', 'Belarus', 'Belgium', 'Belize', 'Benin', 'Bhutan',\n",
       "       'Bolivia', 'Bosnia and Herzegovina', 'Botswana', 'Brazil',\n",
       "       'Brunei', 'Bulgaria', 'Burkina Faso', 'Burma', 'Burundi',\n",
       "       'Cabo Verde', 'Cambodia', 'Cameroon', 'Canada',\n",
       "       'Central African Republic', 'Chad', 'Chile', 'China', 'Colombia',\n",
       "       'Comoros', 'Congo (Brazzaville)', 'Congo (Kinshasa)', 'Costa Rica',\n",
       "       \"Cote d'Ivoire\", 'Croatia', 'Cuba', 'Cyprus', 'Czechia', 'Denmark',\n",
       "       'Diamond Princess', 'Djibouti', 'Dominica', 'Dominican Republic',\n",
       "       'Ecuador', 'Egypt', 'El Salvador', 'Equatorial Guinea', 'Eritrea',\n",
       "       'Estonia', 'Eswatini', 'Ethiopia', 'Fiji', 'Finland', 'France',\n",
       "       'Gabon', 'Gambia', 'Georgia', 'Germany', 'Ghana', 'Greece',\n",
       "       'Grenada', 'Guatemala', 'Guinea', 'Guinea-Bissau', 'Guyana',\n",
       "       'Haiti', 'Holy See', 'Honduras', 'Hungary', 'Iceland', 'India',\n",
       "       'Indonesia', 'Iran', 'Iraq', 'Ireland', 'Israel', 'Italy',\n",
       "       'Jamaica', 'Japan', 'Jordan', 'Kazakhstan', 'Kenya',\n",
       "       'Korea, South', 'Kosovo', 'Kuwait', 'Kyrgyzstan', 'Laos', 'Latvia',\n",
       "       'Lebanon', 'Lesotho', 'Liberia', 'Libya', 'Liechtenstein',\n",
       "       'Lithuania', 'Luxembourg', 'MS Zaandam', 'Madagascar', 'Malawi',\n",
       "       'Malaysia', 'Maldives', 'Mali', 'Malta', 'Mauritania', 'Mauritius',\n",
       "       'Mexico', 'Moldova', 'Monaco', 'Mongolia', 'Montenegro', 'Morocco',\n",
       "       'Mozambique', 'Namibia', 'Nepal', 'Netherlands', 'New Zealand',\n",
       "       'Nicaragua', 'Niger', 'Nigeria', 'North Macedonia', 'Norway',\n",
       "       'Oman', 'Pakistan', 'Panama', 'Papua New Guinea', 'Paraguay',\n",
       "       'Peru', 'Philippines', 'Poland', 'Portugal', 'Qatar', 'Romania',\n",
       "       'Russia', 'Rwanda', 'Saint Kitts and Nevis', 'Saint Lucia',\n",
       "       'Saint Vincent and the Grenadines', 'San Marino',\n",
       "       'Sao Tome and Principe', 'Saudi Arabia', 'Senegal', 'Serbia',\n",
       "       'Seychelles', 'Sierra Leone', 'Singapore', 'Slovakia', 'Slovenia',\n",
       "       'Somalia', 'South Africa', 'South Sudan', 'Spain', 'Sri Lanka',\n",
       "       'Sudan', 'Suriname', 'Sweden', 'Switzerland', 'Syria', 'Taiwan*',\n",
       "       'Tajikistan', 'Tanzania', 'Thailand', 'Timor-Leste', 'Togo',\n",
       "       'Trinidad and Tobago', 'Tunisia', 'Turkey', 'US', 'Uganda',\n",
       "       'Ukraine', 'United Arab Emirates', 'United Kingdom', 'Uruguay',\n",
       "       'Uzbekistan', 'Venezuela', 'Vietnam', 'West Bank and Gaza',\n",
       "       'Western Sahara', 'Yemen', 'Zambia', 'Zimbabwe'], dtype=object)"
      ]
     },
     "execution_count": 6,
     "metadata": {},
     "output_type": "execute_result"
    }
   ],
   "source": [
    "covid['Country'].unique()"
   ]
  },
  {
   "cell_type": "code",
   "execution_count": 7,
   "metadata": {},
   "outputs": [
    {
     "data": {
      "text/plain": [
       "Date         object\n",
       "Country      object\n",
       "Confirmed     int64\n",
       "Recovered     int64\n",
       "Deaths        int64\n",
       "dtype: object"
      ]
     },
     "execution_count": 7,
     "metadata": {},
     "output_type": "execute_result"
    }
   ],
   "source": [
    "covid.dtypes"
   ]
  },
  {
   "cell_type": "code",
   "execution_count": 8,
   "metadata": {},
   "outputs": [
    {
     "data": {
      "text/html": [
       "<div>\n",
       "<style scoped>\n",
       "    .dataframe tbody tr th:only-of-type {\n",
       "        vertical-align: middle;\n",
       "    }\n",
       "\n",
       "    .dataframe tbody tr th {\n",
       "        vertical-align: top;\n",
       "    }\n",
       "\n",
       "    .dataframe thead th {\n",
       "        text-align: right;\n",
       "    }\n",
       "</style>\n",
       "<table border=\"1\" class=\"dataframe\">\n",
       "  <thead>\n",
       "    <tr style=\"text-align: right;\">\n",
       "      <th></th>\n",
       "      <th>Confirmed</th>\n",
       "      <th>Recovered</th>\n",
       "      <th>Deaths</th>\n",
       "    </tr>\n",
       "  </thead>\n",
       "  <tbody>\n",
       "    <tr>\n",
       "      <th>count</th>\n",
       "      <td>2.368800e+04</td>\n",
       "      <td>23688.000000</td>\n",
       "      <td>23688.000000</td>\n",
       "    </tr>\n",
       "    <tr>\n",
       "      <th>mean</th>\n",
       "      <td>7.969368e+03</td>\n",
       "      <td>2581.801714</td>\n",
       "      <td>526.935030</td>\n",
       "    </tr>\n",
       "    <tr>\n",
       "      <th>std</th>\n",
       "      <td>5.842109e+04</td>\n",
       "      <td>15143.101257</td>\n",
       "      <td>3992.815956</td>\n",
       "    </tr>\n",
       "    <tr>\n",
       "      <th>min</th>\n",
       "      <td>0.000000e+00</td>\n",
       "      <td>0.000000</td>\n",
       "      <td>0.000000</td>\n",
       "    </tr>\n",
       "    <tr>\n",
       "      <th>25%</th>\n",
       "      <td>0.000000e+00</td>\n",
       "      <td>0.000000</td>\n",
       "      <td>0.000000</td>\n",
       "    </tr>\n",
       "    <tr>\n",
       "      <th>50%</th>\n",
       "      <td>1.800000e+01</td>\n",
       "      <td>1.000000</td>\n",
       "      <td>0.000000</td>\n",
       "    </tr>\n",
       "    <tr>\n",
       "      <th>75%</th>\n",
       "      <td>7.300000e+02</td>\n",
       "      <td>123.000000</td>\n",
       "      <td>13.000000</td>\n",
       "    </tr>\n",
       "    <tr>\n",
       "      <th>max</th>\n",
       "      <td>1.680913e+06</td>\n",
       "      <td>384902.000000</td>\n",
       "      <td>98913.000000</td>\n",
       "    </tr>\n",
       "  </tbody>\n",
       "</table>\n",
       "</div>"
      ],
      "text/plain": [
       "          Confirmed      Recovered        Deaths\n",
       "count  2.368800e+04   23688.000000  23688.000000\n",
       "mean   7.969368e+03    2581.801714    526.935030\n",
       "std    5.842109e+04   15143.101257   3992.815956\n",
       "min    0.000000e+00       0.000000      0.000000\n",
       "25%    0.000000e+00       0.000000      0.000000\n",
       "50%    1.800000e+01       1.000000      0.000000\n",
       "75%    7.300000e+02     123.000000     13.000000\n",
       "max    1.680913e+06  384902.000000  98913.000000"
      ]
     },
     "execution_count": 8,
     "metadata": {},
     "output_type": "execute_result"
    }
   ],
   "source": [
    "covid.describe()"
   ]
  },
  {
   "cell_type": "markdown",
   "metadata": {},
   "source": [
    "Numbers for these columns are largely varied, since they are real life cases it is as expected, since the numbers are large, we wil transform these numbers to make them smaller"
   ]
  },
  {
   "cell_type": "code",
   "execution_count": 9,
   "metadata": {},
   "outputs": [
    {
     "data": {
      "text/plain": [
       "<matplotlib.axes._subplots.AxesSubplot at 0x2710a0f4b20>"
      ]
     },
     "execution_count": 9,
     "metadata": {},
     "output_type": "execute_result"
    },
    {
     "data": {
      "image/png": "[encoded data removed]",
      "text/plain": [
       "<Figure size 432x288 with 1 Axes>"
      ]
     },
     "metadata": {
      "needs_background": "light"
     },
     "output_type": "display_data"
    }
   ],
   "source": [
    "sns.distplot(covid['Recovered'], bins=20)"
   ]
  },
  {
   "cell_type": "markdown",
   "metadata": {},
   "source": [
    "Immensely right skewed, let's transform this column"
   ]
  },
  {
   "cell_type": "code",
   "execution_count": 10,
   "metadata": {},
   "outputs": [
    {
     "data": {
      "text/plain": [
       "<matplotlib.axes._subplots.AxesSubplot at 0x2710f72e070>"
      ]
     },
     "execution_count": 10,
     "metadata": {},
     "output_type": "execute_result"
    },
    {
     "data": {
      "image/png": "[encoded data removed]",
      "text/plain": [
       "<Figure size 432x288 with 1 Axes>"
      ]
     },
     "metadata": {
      "needs_background": "light"
     },
     "output_type": "display_data"
    }
   ],
   "source": [
    "covid['Recovered'] = np.log(1+covid['Recovered'])\n",
    "#Since there are 0 also so log will make infinite value so we have added 1\n",
    "sns.distplot(covid['Recovered'], bins=20)"
   ]
  },
  {
   "cell_type": "markdown",
   "metadata": {},
   "source": [
    "Looks better now"
   ]
  },
  {
   "cell_type": "code",
   "execution_count": 11,
   "metadata": {},
   "outputs": [
    {
     "data": {
      "text/plain": [
       "<matplotlib.axes._subplots.AxesSubplot at 0x2710f7ca640>"
      ]
     },
     "execution_count": 11,
     "metadata": {},
     "output_type": "execute_result"
    },
    {
     "data": {
      "image/png": "[encoded data removed]",
      "text/plain": [
       "<Figure size 432x288 with 1 Axes>"
      ]
     },
     "metadata": {
      "needs_background": "light"
     },
     "output_type": "display_data"
    }
   ],
   "source": [
    "sns.distplot(covid['Confirmed'], bins=20)"
   ]
  },
  {
   "cell_type": "code",
   "execution_count": 12,
   "metadata": {},
   "outputs": [
    {
     "data": {
      "text/plain": [
       "<matplotlib.axes._subplots.AxesSubplot at 0x2710f85cfd0>"
      ]
     },
     "execution_count": 12,
     "metadata": {},
     "output_type": "execute_result"
    },
    {
     "data": {
      "image/png": "[encoded data removed]",
      "text/plain": [
       "<Figure size 432x288 with 1 Axes>"
      ]
     },
     "metadata": {
      "needs_background": "light"
     },
     "output_type": "display_data"
    }
   ],
   "source": [
    "covid['Confirmed'] = np.log(1+covid['Confirmed'])\n",
    "#Since there are 0 also so log will make infinite value so we have added 1\n",
    "sns.distplot(covid['Confirmed'], bins=20)"
   ]
  },
  {
   "cell_type": "markdown",
   "metadata": {},
   "source": [
    "Since Death is target variable we won't transform it"
   ]
  },
  {
   "cell_type": "markdown",
   "metadata": {},
   "source": [
    "Also date is not at all related to deaths, it is simply related to confirmed number of cases and recoveries, hence we will drop date column."
   ]
  },
  {
   "cell_type": "code",
   "execution_count": 13,
   "metadata": {},
   "outputs": [
    {
     "data": {
      "text/html": [
       "<div>\n",
       "<style scoped>\n",
       "    .dataframe tbody tr th:only-of-type {\n",
       "        vertical-align: middle;\n",
       "    }\n",
       "\n",
       "    .dataframe tbody tr th {\n",
       "        vertical-align: top;\n",
       "    }\n",
       "\n",
       "    .dataframe thead th {\n",
       "        text-align: right;\n",
       "    }\n",
       "</style>\n",
       "<table border=\"1\" class=\"dataframe\">\n",
       "  <thead>\n",
       "    <tr style=\"text-align: right;\">\n",
       "      <th></th>\n",
       "      <th>Country</th>\n",
       "      <th>Confirmed</th>\n",
       "      <th>Recovered</th>\n",
       "      <th>Deaths</th>\n",
       "    </tr>\n",
       "  </thead>\n",
       "  <tbody>\n",
       "    <tr>\n",
       "      <th>0</th>\n",
       "      <td>Afghanistan</td>\n",
       "      <td>0.0</td>\n",
       "      <td>0.0</td>\n",
       "      <td>0</td>\n",
       "    </tr>\n",
       "    <tr>\n",
       "      <th>1</th>\n",
       "      <td>Albania</td>\n",
       "      <td>0.0</td>\n",
       "      <td>0.0</td>\n",
       "      <td>0</td>\n",
       "    </tr>\n",
       "    <tr>\n",
       "      <th>2</th>\n",
       "      <td>Algeria</td>\n",
       "      <td>0.0</td>\n",
       "      <td>0.0</td>\n",
       "      <td>0</td>\n",
       "    </tr>\n",
       "    <tr>\n",
       "      <th>3</th>\n",
       "      <td>Andorra</td>\n",
       "      <td>0.0</td>\n",
       "      <td>0.0</td>\n",
       "      <td>0</td>\n",
       "    </tr>\n",
       "    <tr>\n",
       "      <th>4</th>\n",
       "      <td>Angola</td>\n",
       "      <td>0.0</td>\n",
       "      <td>0.0</td>\n",
       "      <td>0</td>\n",
       "    </tr>\n",
       "  </tbody>\n",
       "</table>\n",
       "</div>"
      ],
      "text/plain": [
       "       Country  Confirmed  Recovered  Deaths\n",
       "0  Afghanistan        0.0        0.0       0\n",
       "1      Albania        0.0        0.0       0\n",
       "2      Algeria        0.0        0.0       0\n",
       "3      Andorra        0.0        0.0       0\n",
       "4       Angola        0.0        0.0       0"
      ]
     },
     "execution_count": 13,
     "metadata": {},
     "output_type": "execute_result"
    }
   ],
   "source": [
    "covid.drop(['Date'], 1, inplace=True)\n",
    "covid.head()"
   ]
  },
  {
   "cell_type": "code",
   "execution_count": 14,
   "metadata": {},
   "outputs": [],
   "source": [
    "from sklearn.preprocessing import LabelEncoder, MinMaxScaler, StandardScaler\n",
    "le = LabelEncoder()"
   ]
  },
  {
   "cell_type": "code",
   "execution_count": 15,
   "metadata": {},
   "outputs": [
    {
     "name": "stdout",
     "output_type": "stream",
     "text": [
      "[{0: 'Afghanistan', 1: 'Albania', 2: 'Algeria', 3: 'Andorra', 4: 'Angola', 5: 'Antigua and Barbuda', 6: 'Argentina', 7: 'Armenia', 8: 'Australia', 9: 'Austria', 10: 'Azerbaijan', 11: 'Bahamas', 12: 'Bahrain', 13: 'Bangladesh', 14: 'Barbados', 15: 'Belarus', 16: 'Belgium', 17: 'Belize', 18: 'Benin', 19: 'Bhutan', 20: 'Bolivia', 21: 'Bosnia and Herzegovina', 22: 'Botswana', 23: 'Brazil', 24: 'Brunei', 25: 'Bulgaria', 26: 'Burkina Faso', 27: 'Burma', 28: 'Burundi', 29: 'Cabo Verde', 30: 'Cambodia', 31: 'Cameroon', 32: 'Canada', 33: 'Central African Republic', 34: 'Chad', 35: 'Chile', 36: 'China', 37: 'Colombia', 38: 'Comoros', 39: 'Congo (Brazzaville)', 40: 'Congo (Kinshasa)', 41: 'Costa Rica', 42: \"Cote d'Ivoire\", 43: 'Croatia', 44: 'Cuba', 45: 'Cyprus', 46: 'Czechia', 47: 'Denmark', 48: 'Diamond Princess', 49: 'Djibouti', 50: 'Dominica', 51: 'Dominican Republic', 52: 'Ecuador', 53: 'Egypt', 54: 'El Salvador', 55: 'Equatorial Guinea', 56: 'Eritrea', 57: 'Estonia', 58: 'Eswatini', 59: 'Ethiopia', 60: 'Fiji', 61: 'Finland', 62: 'France', 63: 'Gabon', 64: 'Gambia', 65: 'Georgia', 66: 'Germany', 67: 'Ghana', 68: 'Greece', 69: 'Grenada', 70: 'Guatemala', 71: 'Guinea', 72: 'Guinea-Bissau', 73: 'Guyana', 74: 'Haiti', 75: 'Holy See', 76: 'Honduras', 77: 'Hungary', 78: 'Iceland', 79: 'India', 80: 'Indonesia', 81: 'Iran', 82: 'Iraq', 83: 'Ireland', 84: 'Israel', 85: 'Italy', 86: 'Jamaica', 87: 'Japan', 88: 'Jordan', 89: 'Kazakhstan', 90: 'Kenya', 91: 'Korea, South', 92: 'Kosovo', 93: 'Kuwait', 94: 'Kyrgyzstan', 95: 'Laos', 96: 'Latvia', 97: 'Lebanon', 98: 'Lesotho', 99: 'Liberia', 100: 'Libya', 101: 'Liechtenstein', 102: 'Lithuania', 103: 'Luxembourg', 104: 'MS Zaandam', 105: 'Madagascar', 106: 'Malawi', 107: 'Malaysia', 108: 'Maldives', 109: 'Mali', 110: 'Malta', 111: 'Mauritania', 112: 'Mauritius', 113: 'Mexico', 114: 'Moldova', 115: 'Monaco', 116: 'Mongolia', 117: 'Montenegro', 118: 'Morocco', 119: 'Mozambique', 120: 'Namibia', 121: 'Nepal', 122: 'Netherlands', 123: 'New Zealand', 124: 'Nicaragua', 125: 'Niger', 126: 'Nigeria', 127: 'North Macedonia', 128: 'Norway', 129: 'Oman', 130: 'Pakistan', 131: 'Panama', 132: 'Papua New Guinea', 133: 'Paraguay', 134: 'Peru', 135: 'Philippines', 136: 'Poland', 137: 'Portugal', 138: 'Qatar', 139: 'Romania', 140: 'Russia', 141: 'Rwanda', 142: 'Saint Kitts and Nevis', 143: 'Saint Lucia', 144: 'Saint Vincent and the Grenadines', 145: 'San Marino', 146: 'Sao Tome and Principe', 147: 'Saudi Arabia', 148: 'Senegal', 149: 'Serbia', 150: 'Seychelles', 151: 'Sierra Leone', 152: 'Singapore', 153: 'Slovakia', 154: 'Slovenia', 155: 'Somalia', 156: 'South Africa', 157: 'South Sudan', 158: 'Spain', 159: 'Sri Lanka', 160: 'Sudan', 161: 'Suriname', 162: 'Sweden', 163: 'Switzerland', 164: 'Syria', 165: 'Taiwan*', 166: 'Tajikistan', 167: 'Tanzania', 168: 'Thailand', 169: 'Timor-Leste', 170: 'Togo', 171: 'Trinidad and Tobago', 172: 'Tunisia', 173: 'Turkey', 174: 'US', 175: 'Uganda', 176: 'Ukraine', 177: 'United Arab Emirates', 178: 'United Kingdom', 179: 'Uruguay', 180: 'Uzbekistan', 181: 'Venezuela', 182: 'Vietnam', 183: 'West Bank and Gaza', 184: 'Western Sahara', 185: 'Yemen', 186: 'Zambia', 187: 'Zimbabwe'}]\n"
     ]
    }
   ],
   "source": [
    "dict1 = []\n",
    "covid['Country'] = le.fit_transform(covid['Country'])\n",
    "dict1.append({key: value for key,value in enumerate(le.classes_)})\n",
    "print(dict1)"
   ]
  },
  {
   "cell_type": "code",
   "execution_count": 16,
   "metadata": {},
   "outputs": [
    {
     "data": {
      "text/plain": [
       "<seaborn.axisgrid.FacetGrid at 0x2710efb2640>"
      ]
     },
     "execution_count": 16,
     "metadata": {},
     "output_type": "execute_result"
    },
    {
     "data": {
      "image/png": "[encoded data removed]",
      "text/plain": [
       "<Figure size 360x360 with 1 Axes>"
      ]
     },
     "metadata": {
      "needs_background": "light"
     },
     "output_type": "display_data"
    }
   ],
   "source": [
    "sns.lmplot(x='Country', y='Deaths', data=covid)"
   ]
  },
  {
   "cell_type": "markdown",
   "metadata": {},
   "source": [
    "I can see that with country there is a relation with the number of deaths.\n",
    "\n",
    "So I will try to find the relation among other variables and will try to find out if there is any relation of country with any other dependent variables or not."
   ]
  },
  {
   "cell_type": "code",
   "execution_count": 17,
   "metadata": {},
   "outputs": [
    {
     "data": {
      "text/html": [
       "<div>\n",
       "<style scoped>\n",
       "    .dataframe tbody tr th:only-of-type {\n",
       "        vertical-align: middle;\n",
       "    }\n",
       "\n",
       "    .dataframe tbody tr th {\n",
       "        vertical-align: top;\n",
       "    }\n",
       "\n",
       "    .dataframe thead th {\n",
       "        text-align: right;\n",
       "    }\n",
       "</style>\n",
       "<table border=\"1\" class=\"dataframe\">\n",
       "  <thead>\n",
       "    <tr style=\"text-align: right;\">\n",
       "      <th></th>\n",
       "      <th>Country</th>\n",
       "      <th>Confirmed</th>\n",
       "      <th>Recovered</th>\n",
       "      <th>Deaths</th>\n",
       "    </tr>\n",
       "  </thead>\n",
       "  <tbody>\n",
       "    <tr>\n",
       "      <th>Country</th>\n",
       "      <td>1.000000</td>\n",
       "      <td>-0.007275</td>\n",
       "      <td>-0.023209</td>\n",
       "      <td>0.064954</td>\n",
       "    </tr>\n",
       "    <tr>\n",
       "      <th>Confirmed</th>\n",
       "      <td>-0.007275</td>\n",
       "      <td>1.000000</td>\n",
       "      <td>0.926376</td>\n",
       "      <td>0.310155</td>\n",
       "    </tr>\n",
       "    <tr>\n",
       "      <th>Recovered</th>\n",
       "      <td>-0.023209</td>\n",
       "      <td>0.926376</td>\n",
       "      <td>1.000000</td>\n",
       "      <td>0.325037</td>\n",
       "    </tr>\n",
       "    <tr>\n",
       "      <th>Deaths</th>\n",
       "      <td>0.064954</td>\n",
       "      <td>0.310155</td>\n",
       "      <td>0.325037</td>\n",
       "      <td>1.000000</td>\n",
       "    </tr>\n",
       "  </tbody>\n",
       "</table>\n",
       "</div>"
      ],
      "text/plain": [
       "            Country  Confirmed  Recovered    Deaths\n",
       "Country    1.000000  -0.007275  -0.023209  0.064954\n",
       "Confirmed -0.007275   1.000000   0.926376  0.310155\n",
       "Recovered -0.023209   0.926376   1.000000  0.325037\n",
       "Deaths     0.064954   0.310155   0.325037  1.000000"
      ]
     },
     "execution_count": 17,
     "metadata": {},
     "output_type": "execute_result"
    }
   ],
   "source": [
    "covcor = covid.corr()\n",
    "covcor"
   ]
  },
  {
   "cell_type": "code",
   "execution_count": 18,
   "metadata": {},
   "outputs": [
    {
     "data": {
      "text/plain": [
       "<matplotlib.axes._subplots.AxesSubplot at 0x2710fa276d0>"
      ]
     },
     "execution_count": 18,
     "metadata": {},
     "output_type": "execute_result"
    },
    {
     "data": {
      "image/png": "[encoded data removed]",
      "text/plain": [
       "<Figure size 432x288 with 2 Axes>"
      ]
     },
     "metadata": {
      "needs_background": "light"
     },
     "output_type": "display_data"
    }
   ],
   "source": [
    "sns.heatmap(covcor, annot=True)"
   ]
  },
  {
   "cell_type": "markdown",
   "metadata": {},
   "source": [
    "Country is not too much related to any other variable, but as we can see that Recovered and Confirmed are too much interdependent we can drop either one of those or we can ignore them, as if we drop either one of them then we lose an important dependent variable, so let's keep them.\n",
    "Deaths is also very less dependent on Country so we can drop it."
   ]
  },
  {
   "cell_type": "code",
   "execution_count": 19,
   "metadata": {},
   "outputs": [
    {
     "data": {
      "text/html": [
       "<div>\n",
       "<style scoped>\n",
       "    .dataframe tbody tr th:only-of-type {\n",
       "        vertical-align: middle;\n",
       "    }\n",
       "\n",
       "    .dataframe tbody tr th {\n",
       "        vertical-align: top;\n",
       "    }\n",
       "\n",
       "    .dataframe thead th {\n",
       "        text-align: right;\n",
       "    }\n",
       "</style>\n",
       "<table border=\"1\" class=\"dataframe\">\n",
       "  <thead>\n",
       "    <tr style=\"text-align: right;\">\n",
       "      <th></th>\n",
       "      <th>Confirmed</th>\n",
       "      <th>Recovered</th>\n",
       "      <th>Deaths</th>\n",
       "    </tr>\n",
       "  </thead>\n",
       "  <tbody>\n",
       "    <tr>\n",
       "      <th>0</th>\n",
       "      <td>0.0</td>\n",
       "      <td>0.0</td>\n",
       "      <td>0</td>\n",
       "    </tr>\n",
       "    <tr>\n",
       "      <th>1</th>\n",
       "      <td>0.0</td>\n",
       "      <td>0.0</td>\n",
       "      <td>0</td>\n",
       "    </tr>\n",
       "    <tr>\n",
       "      <th>2</th>\n",
       "      <td>0.0</td>\n",
       "      <td>0.0</td>\n",
       "      <td>0</td>\n",
       "    </tr>\n",
       "    <tr>\n",
       "      <th>3</th>\n",
       "      <td>0.0</td>\n",
       "      <td>0.0</td>\n",
       "      <td>0</td>\n",
       "    </tr>\n",
       "    <tr>\n",
       "      <th>4</th>\n",
       "      <td>0.0</td>\n",
       "      <td>0.0</td>\n",
       "      <td>0</td>\n",
       "    </tr>\n",
       "  </tbody>\n",
       "</table>\n",
       "</div>"
      ],
      "text/plain": [
       "   Confirmed  Recovered  Deaths\n",
       "0        0.0        0.0       0\n",
       "1        0.0        0.0       0\n",
       "2        0.0        0.0       0\n",
       "3        0.0        0.0       0\n",
       "4        0.0        0.0       0"
      ]
     },
     "execution_count": 19,
     "metadata": {},
     "output_type": "execute_result"
    }
   ],
   "source": [
    "covid.drop(['Country'],1,inplace=True)\n",
    "covid.head()"
   ]
  },
  {
   "cell_type": "code",
   "execution_count": 20,
   "metadata": {},
   "outputs": [
    {
     "name": "stdout",
     "output_type": "stream",
     "text": [
      "1\n",
      "0.000000     8056\n",
      "0.693147      799\n",
      "1.098612      310\n",
      "1.386294      293\n",
      "2.833213      223\n",
      "             ... \n",
      "10.191332       1\n",
      "11.431748       1\n",
      "8.783549        1\n",
      "10.966939       1\n",
      "12.243537       1\n",
      "Name: Confirmed, Length: 5308, dtype: int64\n",
      "0.000000     11100\n",
      "0.693147       866\n",
      "1.098612       517\n",
      "1.609438       264\n",
      "1.386294       262\n",
      "             ...  \n",
      "6.895683         1\n",
      "11.872703        1\n",
      "9.410174         1\n",
      "7.912789         1\n",
      "10.507230        1\n",
      "Name: Recovered, Length: 3303, dtype: int64\n",
      "0        12989\n",
      "1         1244\n",
      "2          655\n",
      "3          550\n",
      "4          324\n",
      "         ...  \n",
      "473          1\n",
      "4603         1\n",
      "521          1\n",
      "2600         1\n",
      "30689        1\n",
      "Name: Deaths, Length: 1768, dtype: int64\n"
     ]
    }
   ],
   "source": [
    "print(min(covid['Confirmed'].value_counts()))\n",
    "print((covid['Confirmed'].value_counts()))\n",
    "print(covid['Recovered'].value_counts())\n",
    "print(covid['Deaths'].value_counts())"
   ]
  },
  {
   "cell_type": "markdown",
   "metadata": {},
   "source": [
    "# Feature Scaling"
   ]
  },
  {
   "cell_type": "code",
   "execution_count": 21,
   "metadata": {},
   "outputs": [],
   "source": [
    "mms = MinMaxScaler()"
   ]
  },
  {
   "cell_type": "code",
   "execution_count": 22,
   "metadata": {},
   "outputs": [
    {
     "data": {
      "text/plain": [
       "<matplotlib.axes._subplots.AxesSubplot at 0x2710fb25160>"
      ]
     },
     "execution_count": 22,
     "metadata": {},
     "output_type": "execute_result"
    },
    {
     "data": {
      "image/png": "[encoded data removed]",
      "text/plain": [
       "<Figure size 432x288 with 1 Axes>"
      ]
     },
     "metadata": {
      "needs_background": "light"
     },
     "output_type": "display_data"
    }
   ],
   "source": [
    "sns.distplot(covid['Confirmed'])"
   ]
  },
  {
   "cell_type": "code",
   "execution_count": 23,
   "metadata": {},
   "outputs": [
    {
     "data": {
      "text/plain": [
       "<matplotlib.axes._subplots.AxesSubplot at 0x2710fbd9310>"
      ]
     },
     "execution_count": 23,
     "metadata": {},
     "output_type": "execute_result"
    },
    {
     "data": {
      "image/png": "[encoded data removed]",
      "text/plain": [
       "<Figure size 432x288 with 1 Axes>"
      ]
     },
     "metadata": {
      "needs_background": "light"
     },
     "output_type": "display_data"
    }
   ],
   "source": [
    "sns.distplot(covid['Recovered'])"
   ]
  },
  {
   "cell_type": "code",
   "execution_count": 24,
   "metadata": {},
   "outputs": [
    {
     "data": {
      "text/plain": [
       "<matplotlib.axes._subplots.AxesSubplot at 0x2710fc83400>"
      ]
     },
     "execution_count": 24,
     "metadata": {},
     "output_type": "execute_result"
    },
    {
     "data": {
      "image/png": "[encoded data removed]",
      "text/plain": [
       "<Figure size 432x288 with 1 Axes>"
      ]
     },
     "metadata": {
      "needs_background": "light"
     },
     "output_type": "display_data"
    }
   ],
   "source": [
    "sns.distplot(covid['Deaths'])"
   ]
  },
  {
   "cell_type": "markdown",
   "metadata": {},
   "source": [
    "covid['Deaths'] Numbers are varied over very large range, let's transform it too, since we have transformed other 2 columns using log transformation, so we will use same method for Deaths columns as well"
   ]
  },
  {
   "cell_type": "code",
   "execution_count": 25,
   "metadata": {},
   "outputs": [
    {
     "data": {
      "text/plain": [
       "<matplotlib.axes._subplots.AxesSubplot at 0x2710fd6faf0>"
      ]
     },
     "execution_count": 25,
     "metadata": {},
     "output_type": "execute_result"
    },
    {
     "data": {
      "image/png": "[encoded data removed]",
      "text/plain": [
       "<Figure size 432x288 with 1 Axes>"
      ]
     },
     "metadata": {
      "needs_background": "light"
     },
     "output_type": "display_data"
    }
   ],
   "source": [
    "covid['Deaths'] = le.fit_transform(1+covid['Deaths'])\n",
    "sns.distplot(covid['Deaths'])"
   ]
  },
  {
   "cell_type": "code",
   "execution_count": 26,
   "metadata": {},
   "outputs": [
    {
     "data": {
      "text/html": [
       "<div>\n",
       "<style scoped>\n",
       "    .dataframe tbody tr th:only-of-type {\n",
       "        vertical-align: middle;\n",
       "    }\n",
       "\n",
       "    .dataframe tbody tr th {\n",
       "        vertical-align: top;\n",
       "    }\n",
       "\n",
       "    .dataframe thead th {\n",
       "        text-align: right;\n",
       "    }\n",
       "</style>\n",
       "<table border=\"1\" class=\"dataframe\">\n",
       "  <thead>\n",
       "    <tr style=\"text-align: right;\">\n",
       "      <th></th>\n",
       "      <th>Confirmed</th>\n",
       "      <th>Recovered</th>\n",
       "      <th>Deaths</th>\n",
       "    </tr>\n",
       "  </thead>\n",
       "  <tbody>\n",
       "    <tr>\n",
       "      <th>23683</th>\n",
       "      <td>6.063785</td>\n",
       "      <td>5.902633</td>\n",
       "      <td>3</td>\n",
       "    </tr>\n",
       "    <tr>\n",
       "      <th>23684</th>\n",
       "      <td>2.302585</td>\n",
       "      <td>1.945910</td>\n",
       "      <td>1</td>\n",
       "    </tr>\n",
       "    <tr>\n",
       "      <th>23685</th>\n",
       "      <td>5.521461</td>\n",
       "      <td>2.397895</td>\n",
       "      <td>49</td>\n",
       "    </tr>\n",
       "    <tr>\n",
       "      <th>23686</th>\n",
       "      <td>6.825460</td>\n",
       "      <td>5.820083</td>\n",
       "      <td>7</td>\n",
       "    </tr>\n",
       "    <tr>\n",
       "      <th>23687</th>\n",
       "      <td>4.043051</td>\n",
       "      <td>3.258097</td>\n",
       "      <td>4</td>\n",
       "    </tr>\n",
       "  </tbody>\n",
       "</table>\n",
       "</div>"
      ],
      "text/plain": [
       "       Confirmed  Recovered  Deaths\n",
       "23683   6.063785   5.902633       3\n",
       "23684   2.302585   1.945910       1\n",
       "23685   5.521461   2.397895      49\n",
       "23686   6.825460   5.820083       7\n",
       "23687   4.043051   3.258097       4"
      ]
     },
     "execution_count": 26,
     "metadata": {},
     "output_type": "execute_result"
    }
   ],
   "source": [
    "covid.tail()"
   ]
  },
  {
   "cell_type": "markdown",
   "metadata": {},
   "source": [
    "# Model Building"
   ]
  },
  {
   "cell_type": "code",
   "execution_count": 27,
   "metadata": {},
   "outputs": [],
   "source": [
    "from sklearn.linear_model import LinearRegression, Ridge, Lasso\n",
    "from sklearn.tree import DecisionTreeRegressor\n",
    "from sklearn.ensemble import RandomForestRegressor, AdaBoostRegressor, ExtraTreesRegressor, GradientBoostingRegressor\n",
    "from sklearn.metrics import mean_absolute_error, mean_squared_error, r2_score\n",
    "from sklearn.model_selection import train_test_split, cross_val_score"
   ]
  },
  {
   "cell_type": "code",
   "execution_count": 28,
   "metadata": {},
   "outputs": [
    {
     "name": "stdout",
     "output_type": "stream",
     "text": [
      "       Confirmed  Recovered\n",
      "18675   5.624018   4.219508\n",
      "10083   0.000000   0.000000\n",
      "16943  10.670814  10.042902\n",
      "5708    0.000000   0.000000\n",
      "20302   5.123964   4.718499\n",
      "113        0\n",
      "22769    141\n",
      "22051      7\n",
      "19393      2\n",
      "6085       0\n",
      "Name: Deaths, dtype: int64\n"
     ]
    }
   ],
   "source": [
    "x = covid.drop([\"Deaths\"],1)\n",
    "y = covid[\"Deaths\"]\n",
    "print(x.sample(5))\n",
    "print(y.sample(5))"
   ]
  },
  {
   "cell_type": "code",
   "execution_count": 29,
   "metadata": {},
   "outputs": [],
   "source": [
    "def rstate(model):\n",
    "    rscore = []\n",
    "    for i in range(1,201):\n",
    "        x_train, x_test, y_train, y_test = train_test_split(x,y,test_size=.3, random_state=i)\n",
    "        model.fit(x_train, y_train)\n",
    "        pred = model.predict(x_test)\n",
    "        rscore.append(r2_score(y_test, pred))\n",
    "    return rscore.index(max(rscore))+1"
   ]
  },
  {
   "cell_type": "code",
   "execution_count": 30,
   "metadata": {},
   "outputs": [],
   "source": [
    "lm = LinearRegression()\n",
    "rid = Ridge()\n",
    "las = Lasso()\n",
    "dtr = DecisionTreeRegressor()\n",
    "rfr = RandomForestRegressor(n_estimators=10)\n",
    "abr = AdaBoostRegressor()\n",
    "etr = ExtraTreesRegressor()\n",
    "gbr = GradientBoostingRegressor()"
   ]
  },
  {
   "cell_type": "code",
   "execution_count": 31,
   "metadata": {},
   "outputs": [],
   "source": [
    "def regress(model, x, y):\n",
    "    rs = rstate(model)\n",
    "    x_train, x_test, y_train, y_test = train_test_split(x,y,test_size=.3, random_state=rs)\n",
    "    # Model training\n",
    "    model.fit(x_train, y_train)\n",
    "    # Model Prediction\n",
    "    pred = model.predict(x_test)\n",
    "    #Cross validation\n",
    "    score = cross_val_score(model, x,y, cv=5)\n",
    "    print(\"---------------------------------------------------------------------------------------------\")\n",
    "    print(\"Mean Squared Error of {} is:\".format(modelname[modelArr.index(model)]),mean_squared_error(y_test, pred))\n",
    "    print(\"Root Mean Squared Error of {} is:\".format(modelname[modelArr.index(model)]),np.sqrt(mean_squared_error(y_test, pred)))\n",
    "    print(\"Mean Absolute Error of {} is:\".format(modelname[modelArr.index(model)]),mean_absolute_error(y_test, pred))\n",
    "    print(\"R2 score of {} is:\".format(modelname[modelArr.index(model)]),r2_score(y_test, pred))\n",
    "    print(\"Cross validation score of {} is:\".format(modelname[modelArr.index(model)]),np.mean(score))\n",
    "    print(\"Random State used is: \",rs)\n",
    "    print(\"---------------------------------------------------------------------------------------------\")\n",
    "    return np.mean(score)"
   ]
  },
  {
   "cell_type": "code",
   "execution_count": 32,
   "metadata": {},
   "outputs": [],
   "source": [
    "modelArr = [lm, rid, las, dtr, rfr, abr, etr, gbr]\n",
    "modelname = ['LinearRegression', 'Ridge', 'Lasso', 'DecisionTreeRegressor',\n",
    "             'RandomForestRegressor', 'AdaBoostRegressor', 'ExtraTreesRegressor', 'GradientBoostingRegressor']\n",
    "\n",
    "#modelArr = [lm, rid, las, dtr, rfr, abr]\n",
    "#modelname = ['LinearRegression', 'Ridge', 'Lasso', 'DecisionTreeRegressor',\n",
    "             #'RandomForestRegressor', 'AdaBoostRegressor']"
   ]
  },
  {
   "cell_type": "code",
   "execution_count": 33,
   "metadata": {},
   "outputs": [
    {
     "name": "stdout",
     "output_type": "stream",
     "text": [
      "---------------------------------------------------------------------------------------------\n",
      "Mean Squared Error of LinearRegression is: 46963.998343450534\n",
      "Root Mean Squared Error of LinearRegression is: 216.71178635102092\n",
      "Mean Absolute Error of LinearRegression is: 135.63576629198502\n",
      "R2 score of LinearRegression is: 0.43494991903917846\n",
      "Cross validation score of LinearRegression is: -1.0863521453271408\n",
      "Random State used is:  13\n",
      "---------------------------------------------------------------------------------------------\n",
      "---------------------------------------------------------------------------------------------\n",
      "Mean Squared Error of Ridge is: 46964.04530772305\n",
      "Root Mean Squared Error of Ridge is: 216.71189470751958\n",
      "Mean Absolute Error of Ridge is: 135.63578865187876\n",
      "R2 score of Ridge is: 0.4349493539857988\n",
      "Cross validation score of Ridge is: -1.086363084109505\n",
      "Random State used is:  13\n",
      "---------------------------------------------------------------------------------------------\n",
      "---------------------------------------------------------------------------------------------\n",
      "Mean Squared Error of Lasso is: 46970.77250515997\n",
      "Root Mean Squared Error of Lasso is: 216.72741521358105\n",
      "Mean Absolute Error of Lasso is: 135.5015640724618\n",
      "R2 score of Lasso is: 0.4348684153180863\n",
      "Cross validation score of Lasso is: -1.0779578839318202\n",
      "Random State used is:  13\n",
      "---------------------------------------------------------------------------------------------\n",
      "---------------------------------------------------------------------------------------------\n",
      "Mean Squared Error of DecisionTreeRegressor is: 8748.203028769274\n",
      "Root Mean Squared Error of DecisionTreeRegressor is: 93.5318289608905\n",
      "Mean Absolute Error of DecisionTreeRegressor is: 24.123937722878374\n",
      "R2 score of DecisionTreeRegressor is: 0.8893852111218783\n",
      "Cross validation score of DecisionTreeRegressor is: 0.7813133164529795\n",
      "Random State used is:  130\n",
      "---------------------------------------------------------------------------------------------\n",
      "---------------------------------------------------------------------------------------------\n",
      "Mean Squared Error of RandomForestRegressor is: 6875.34146936787\n",
      "Root Mean Squared Error of RandomForestRegressor is: 82.91767887108195\n",
      "Mean Absolute Error of RandomForestRegressor is: 24.346875177086194\n",
      "R2 score of RandomForestRegressor is: 0.9240012437784422\n",
      "Cross validation score of RandomForestRegressor is: 0.8655643760971025\n",
      "Random State used is:  143\n",
      "---------------------------------------------------------------------------------------------\n",
      "---------------------------------------------------------------------------------------------\n",
      "Mean Squared Error of AdaBoostRegressor is: 7977.321981633374\n",
      "Root Mean Squared Error of AdaBoostRegressor is: 89.31585515256165\n",
      "Mean Absolute Error of AdaBoostRegressor is: 34.045517958558875\n",
      "R2 score of AdaBoostRegressor is: 0.9026759648909363\n",
      "Cross validation score of AdaBoostRegressor is: 0.8955399624610736\n",
      "Random State used is:  114\n",
      "---------------------------------------------------------------------------------------------\n",
      "---------------------------------------------------------------------------------------------\n",
      "Mean Squared Error of ExtraTreesRegressor is: 5848.054141834731\n",
      "Root Mean Squared Error of ExtraTreesRegressor is: 76.47257117316464\n",
      "Mean Absolute Error of ExtraTreesRegressor is: 21.835052731611487\n",
      "R2 score of ExtraTreesRegressor is: 0.9323947949382485\n",
      "Cross validation score of ExtraTreesRegressor is: 0.8620522276286027\n",
      "Random State used is:  79\n",
      "---------------------------------------------------------------------------------------------\n",
      "---------------------------------------------------------------------------------------------\n",
      "Mean Squared Error of GradientBoostingRegressor is: 6318.1332762070715\n",
      "Root Mean Squared Error of GradientBoostingRegressor is: 79.48668615690977\n",
      "Mean Absolute Error of GradientBoostingRegressor is: 26.066165773662426\n",
      "R2 score of GradientBoostingRegressor is: 0.9269605435609994\n",
      "Cross validation score of GradientBoostingRegressor is: 0.9038337396173626\n",
      "Random State used is:  79\n",
      "---------------------------------------------------------------------------------------------\n"
     ]
    },
    {
     "data": {
      "text/plain": [
       "[-1.0863521453271408,\n",
       " -1.086363084109505,\n",
       " -1.0779578839318202,\n",
       " 0.7813133164529795,\n",
       " 0.8655643760971025,\n",
       " 0.8955399624610736,\n",
       " 0.8620522276286027,\n",
       " 0.9038337396173626]"
      ]
     },
     "execution_count": 33,
     "metadata": {},
     "output_type": "execute_result"
    }
   ],
   "source": [
    "cv_scores = []\n",
    "for i in modelArr:\n",
    "    cv_scores.append(regress(i, x, y))\n",
    "cv_scores"
   ]
  },
  {
   "cell_type": "code",
   "execution_count": 35,
   "metadata": {},
   "outputs": [
    {
     "name": "stdout",
     "output_type": "stream",
     "text": [
      "Best model is: GradientBoostingRegressor\n"
     ]
    }
   ],
   "source": [
    "print(\"Best model is:\",modelname[cv_scores.index(max(cv_scores))])"
   ]
  },
  {
   "cell_type": "markdown",
   "metadata": {},
   "source": [
    "As we can see best Model is Gradient Boost Regression.\n",
    "\n",
    "Let's save this model in pickle"
   ]
  },
  {
   "cell_type": "code",
   "execution_count": 36,
   "metadata": {},
   "outputs": [],
   "source": [
    "import pickle as pk"
   ]
  },
  {
   "cell_type": "code",
   "execution_count": 39,
   "metadata": {},
   "outputs": [],
   "source": [
    "with open('Covid_Pickle', 'wb') as f:\n",
    "    pk.dump(gbr,f)"
   ]
  },
  {
   "cell_type": "code",
   "execution_count": 40,
   "metadata": {},
   "outputs": [
    {
     "data": {
      "text/plain": [
       "array([6.16042125e-01, 6.16042125e-01, 6.16042125e-01, ...,\n",
       "       6.94412909e-01, 8.39703211e+02, 4.90350849e+01])"
      ]
     },
     "execution_count": 40,
     "metadata": {},
     "output_type": "execute_result"
    }
   ],
   "source": [
    "with open('Covid_Pickle', 'rb') as f:\n",
    "    model = pk.load(f)\n",
    "\n",
    "\n",
    "pred = model.predict(x_test)\n",
    "pred"
   ]
  },
  {
   "cell_type": "code",
   "execution_count": null,
   "metadata": {},
   "outputs": [],
   "source": []
  }
 ],
 "metadata": {
  "kernelspec": {
   "display_name": "Python 3",
   "language": "python",
   "name": "python3"
  },
  "language_info": {
   "codemirror_mode": {
    "name": "ipython",
    "version": 3
   },
   "file_extension": ".py",
   "mimetype": "text/x-python",
   "name": "python",
   "nbconvert_exporter": "python",
   "pygments_lexer": "ipython3",
   "version": "3.8.3"
  }
 },
 "nbformat": 4,
 "nbformat_minor": 4
}
