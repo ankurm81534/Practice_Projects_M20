{
 "cells": [
  {
   "cell_type": "code",
   "execution_count": 1,
   "metadata": {},
   "outputs": [],
   "source": [
    "import numpy as np\n",
    "import pandas as pd\n",
    "import matplotlib.pyplot as plt\n",
    "import seaborn as sns\n",
    "import warnings\n",
    "warnings.filterwarnings('ignore')"
   ]
  },
  {
   "cell_type": "code",
   "execution_count": 2,
   "metadata": {},
   "outputs": [
    {
     "data": {
      "text/html": [
       "<div>\n",
       "<style scoped>\n",
       "    .dataframe tbody tr th:only-of-type {\n",
       "        vertical-align: middle;\n",
       "    }\n",
       "\n",
       "    .dataframe tbody tr th {\n",
       "        vertical-align: top;\n",
       "    }\n",
       "\n",
       "    .dataframe thead th {\n",
       "        text-align: right;\n",
       "    }\n",
       "</style>\n",
       "<table border=\"1\" class=\"dataframe\">\n",
       "  <thead>\n",
       "    <tr style=\"text-align: right;\">\n",
       "      <th></th>\n",
       "      <th>Area_Name</th>\n",
       "      <th>Year</th>\n",
       "      <th>Sub_group</th>\n",
       "      <th>CPA_-_Cases_Registered</th>\n",
       "      <th>CPA_-_Cases_Reported_for_Dept._Action</th>\n",
       "      <th>CPA_-_Complaints/Cases_Declared_False/Unsubstantiated</th>\n",
       "      <th>CPA_-_Complaints_Received/Alleged</th>\n",
       "      <th>CPA_-_No_of_Departmental_Enquiries</th>\n",
       "      <th>CPA_-_No_of_Magisterial_Enquiries</th>\n",
       "      <th>CPA-_Cases_Sent_for_Trials/Charge-sheeted</th>\n",
       "      <th>...</th>\n",
       "      <th>CPB_-_Police_Personnel_Convicted</th>\n",
       "      <th>CPB_-_Police_Personnel_sent_up_for_Trial</th>\n",
       "      <th>CPB_-_Police_Personnel_Trial_Completed</th>\n",
       "      <th>CPB-_Police_Personnel_Cases_Withdrawn_or_Otherwise_disposed_of</th>\n",
       "      <th>CPC_-_Police_personnel_Cases_Trial_Completed</th>\n",
       "      <th>CPC_-_Police_Personnel_Cases_Withdrawn_or_Otherwise_disposed_of</th>\n",
       "      <th>CPC_-_Police_Personnel_Disciplinary_Action_Initiated</th>\n",
       "      <th>CPC_-_Police_Personnel_Dismissal/Removal_from_Service</th>\n",
       "      <th>CPC_-_Police_Personnel_Major_Punishment_awarded</th>\n",
       "      <th>CPC_-_Police_Personnel_Minor_Punishment_awarded</th>\n",
       "    </tr>\n",
       "  </thead>\n",
       "  <tbody>\n",
       "    <tr>\n",
       "      <th>0</th>\n",
       "      <td>Andaman &amp; Nicobar Islands</td>\n",
       "      <td>2001</td>\n",
       "      <td>Complaints Against Police Personnel</td>\n",
       "      <td>10</td>\n",
       "      <td>4</td>\n",
       "      <td>0</td>\n",
       "      <td>10</td>\n",
       "      <td>4</td>\n",
       "      <td>0</td>\n",
       "      <td>5</td>\n",
       "      <td>...</td>\n",
       "      <td>0</td>\n",
       "      <td>5</td>\n",
       "      <td>1</td>\n",
       "      <td>0</td>\n",
       "      <td>6</td>\n",
       "      <td>25</td>\n",
       "      <td>73</td>\n",
       "      <td>2</td>\n",
       "      <td>11</td>\n",
       "      <td>20</td>\n",
       "    </tr>\n",
       "    <tr>\n",
       "      <th>1</th>\n",
       "      <td>Andhra Pradesh</td>\n",
       "      <td>2001</td>\n",
       "      <td>Complaints Against Police Personnel</td>\n",
       "      <td>3078</td>\n",
       "      <td>72</td>\n",
       "      <td>109</td>\n",
       "      <td>3229</td>\n",
       "      <td>160</td>\n",
       "      <td>2969</td>\n",
       "      <td>3039</td>\n",
       "      <td>...</td>\n",
       "      <td>3</td>\n",
       "      <td>92</td>\n",
       "      <td>15</td>\n",
       "      <td>16</td>\n",
       "      <td>23</td>\n",
       "      <td>476</td>\n",
       "      <td>1506</td>\n",
       "      <td>47</td>\n",
       "      <td>248</td>\n",
       "      <td>1085</td>\n",
       "    </tr>\n",
       "    <tr>\n",
       "      <th>2</th>\n",
       "      <td>Arunachal Pradesh</td>\n",
       "      <td>2001</td>\n",
       "      <td>Complaints Against Police Personnel</td>\n",
       "      <td>24</td>\n",
       "      <td>39</td>\n",
       "      <td>5</td>\n",
       "      <td>54</td>\n",
       "      <td>44</td>\n",
       "      <td>0</td>\n",
       "      <td>17</td>\n",
       "      <td>...</td>\n",
       "      <td>0</td>\n",
       "      <td>17</td>\n",
       "      <td>0</td>\n",
       "      <td>1</td>\n",
       "      <td>8</td>\n",
       "      <td>43</td>\n",
       "      <td>107</td>\n",
       "      <td>4</td>\n",
       "      <td>17</td>\n",
       "      <td>15</td>\n",
       "    </tr>\n",
       "    <tr>\n",
       "      <th>3</th>\n",
       "      <td>Assam</td>\n",
       "      <td>2001</td>\n",
       "      <td>Complaints Against Police Personnel</td>\n",
       "      <td>17</td>\n",
       "      <td>3</td>\n",
       "      <td>1</td>\n",
       "      <td>52</td>\n",
       "      <td>52</td>\n",
       "      <td>3</td>\n",
       "      <td>9</td>\n",
       "      <td>...</td>\n",
       "      <td>0</td>\n",
       "      <td>7</td>\n",
       "      <td>1</td>\n",
       "      <td>1</td>\n",
       "      <td>0</td>\n",
       "      <td>7</td>\n",
       "      <td>144</td>\n",
       "      <td>5</td>\n",
       "      <td>61</td>\n",
       "      <td>102</td>\n",
       "    </tr>\n",
       "    <tr>\n",
       "      <th>4</th>\n",
       "      <td>Bihar</td>\n",
       "      <td>2001</td>\n",
       "      <td>Complaints Against Police Personnel</td>\n",
       "      <td>1</td>\n",
       "      <td>1</td>\n",
       "      <td>12</td>\n",
       "      <td>125</td>\n",
       "      <td>3</td>\n",
       "      <td>15</td>\n",
       "      <td>18</td>\n",
       "      <td>...</td>\n",
       "      <td>0</td>\n",
       "      <td>81</td>\n",
       "      <td>0</td>\n",
       "      <td>6</td>\n",
       "      <td>537</td>\n",
       "      <td>141</td>\n",
       "      <td>1385</td>\n",
       "      <td>33</td>\n",
       "      <td>470</td>\n",
       "      <td>1557</td>\n",
       "    </tr>\n",
       "  </tbody>\n",
       "</table>\n",
       "<p>5 rows × 22 columns</p>\n",
       "</div>"
      ],
      "text/plain": [
       "                   Area_Name  Year                            Sub_group  \\\n",
       "0  Andaman & Nicobar Islands  2001  Complaints Against Police Personnel   \n",
       "1             Andhra Pradesh  2001  Complaints Against Police Personnel   \n",
       "2          Arunachal Pradesh  2001  Complaints Against Police Personnel   \n",
       "3                      Assam  2001  Complaints Against Police Personnel   \n",
       "4                      Bihar  2001  Complaints Against Police Personnel   \n",
       "\n",
       "   CPA_-_Cases_Registered  CPA_-_Cases_Reported_for_Dept._Action  \\\n",
       "0                      10                                      4   \n",
       "1                    3078                                     72   \n",
       "2                      24                                     39   \n",
       "3                      17                                      3   \n",
       "4                       1                                      1   \n",
       "\n",
       "   CPA_-_Complaints/Cases_Declared_False/Unsubstantiated  \\\n",
       "0                                                  0       \n",
       "1                                                109       \n",
       "2                                                  5       \n",
       "3                                                  1       \n",
       "4                                                 12       \n",
       "\n",
       "   CPA_-_Complaints_Received/Alleged  CPA_-_No_of_Departmental_Enquiries  \\\n",
       "0                                 10                                   4   \n",
       "1                               3229                                 160   \n",
       "2                                 54                                  44   \n",
       "3                                 52                                  52   \n",
       "4                                125                                   3   \n",
       "\n",
       "   CPA_-_No_of_Magisterial_Enquiries  \\\n",
       "0                                  0   \n",
       "1                               2969   \n",
       "2                                  0   \n",
       "3                                  3   \n",
       "4                                 15   \n",
       "\n",
       "   CPA-_Cases_Sent_for_Trials/Charge-sheeted  ...  \\\n",
       "0                                          5  ...   \n",
       "1                                       3039  ...   \n",
       "2                                         17  ...   \n",
       "3                                          9  ...   \n",
       "4                                         18  ...   \n",
       "\n",
       "   CPB_-_Police_Personnel_Convicted  CPB_-_Police_Personnel_sent_up_for_Trial  \\\n",
       "0                                 0                                         5   \n",
       "1                                 3                                        92   \n",
       "2                                 0                                        17   \n",
       "3                                 0                                         7   \n",
       "4                                 0                                        81   \n",
       "\n",
       "   CPB_-_Police_Personnel_Trial_Completed  \\\n",
       "0                                       1   \n",
       "1                                      15   \n",
       "2                                       0   \n",
       "3                                       1   \n",
       "4                                       0   \n",
       "\n",
       "   CPB-_Police_Personnel_Cases_Withdrawn_or_Otherwise_disposed_of  \\\n",
       "0                                                  0                \n",
       "1                                                 16                \n",
       "2                                                  1                \n",
       "3                                                  1                \n",
       "4                                                  6                \n",
       "\n",
       "   CPC_-_Police_personnel_Cases_Trial_Completed  \\\n",
       "0                                             6   \n",
       "1                                            23   \n",
       "2                                             8   \n",
       "3                                             0   \n",
       "4                                           537   \n",
       "\n",
       "   CPC_-_Police_Personnel_Cases_Withdrawn_or_Otherwise_disposed_of  \\\n",
       "0                                                 25                 \n",
       "1                                                476                 \n",
       "2                                                 43                 \n",
       "3                                                  7                 \n",
       "4                                                141                 \n",
       "\n",
       "   CPC_-_Police_Personnel_Disciplinary_Action_Initiated  \\\n",
       "0                                                 73      \n",
       "1                                               1506      \n",
       "2                                                107      \n",
       "3                                                144      \n",
       "4                                               1385      \n",
       "\n",
       "   CPC_-_Police_Personnel_Dismissal/Removal_from_Service  \\\n",
       "0                                                  2       \n",
       "1                                                 47       \n",
       "2                                                  4       \n",
       "3                                                  5       \n",
       "4                                                 33       \n",
       "\n",
       "   CPC_-_Police_Personnel_Major_Punishment_awarded  \\\n",
       "0                                               11   \n",
       "1                                              248   \n",
       "2                                               17   \n",
       "3                                               61   \n",
       "4                                              470   \n",
       "\n",
       "   CPC_-_Police_Personnel_Minor_Punishment_awarded  \n",
       "0                                               20  \n",
       "1                                             1085  \n",
       "2                                               15  \n",
       "3                                              102  \n",
       "4                                             1557  \n",
       "\n",
       "[5 rows x 22 columns]"
      ]
     },
     "execution_count": 2,
     "metadata": {},
     "output_type": "execute_result"
    }
   ],
   "source": [
    "pol = pd.read_csv('25_Complaints_against_police.csv')\n",
    "pol.head(5)"
   ]
  },
  {
   "cell_type": "code",
   "execution_count": 11,
   "metadata": {},
   "outputs": [
    {
     "data": {
      "text/plain": [
       "array(['Andaman & Nicobar Islands', 'Andhra Pradesh', 'Arunachal Pradesh',\n",
       "       'Assam', 'Bihar', 'Chandigarh', 'Chhattisgarh',\n",
       "       'Dadra & Nagar Haveli', 'Daman & Diu', 'Delhi', 'Goa', 'Gujarat',\n",
       "       'Haryana', 'Himachal Pradesh', 'Jammu & Kashmir', 'Jharkhand',\n",
       "       'Karnataka', 'Kerala', 'Lakshadweep', 'Madhya Pradesh',\n",
       "       'Maharashtra', 'Manipur', 'Meghalaya', 'Mizoram', 'Nagaland',\n",
       "       'Odisha', 'Puducherry', 'Punjab', 'Rajasthan', 'Sikkim',\n",
       "       'Tamil Nadu', 'Tripura', 'Uttar Pradesh', 'Uttarakhand',\n",
       "       'West Bengal'], dtype=object)"
      ]
     },
     "execution_count": 11,
     "metadata": {},
     "output_type": "execute_result"
    }
   ],
   "source": [
    "pol['Area_Name'].unique()"
   ]
  },
  {
   "cell_type": "code",
   "execution_count": 38,
   "metadata": {},
   "outputs": [
    {
     "data": {
      "text/plain": [
       "Daman & Diu                      0\n",
       "Dadra & Nagar Haveli             2\n",
       "Lakshadweep                      2\n",
       "Manipur                          9\n",
       "Chandigarh                      21\n",
       "Puducherry                      32\n",
       "Mizoram                         41\n",
       "Goa                             50\n",
       "Meghalaya                       59\n",
       "Arunachal Pradesh              119\n",
       "Nagaland                       126\n",
       "Tripura                        134\n",
       "Sikkim                         138\n",
       "Assam                          150\n",
       "Andaman & Nicobar Islands      154\n",
       "Uttarakhand                    168\n",
       "West Bengal                    299\n",
       "Bihar                          310\n",
       "Haryana                        457\n",
       "Jammu & Kashmir                682\n",
       "Chhattisgarh                   797\n",
       "Karnataka                      809\n",
       "Delhi                         1013\n",
       "Kerala                        1055\n",
       "Rajasthan                     1216\n",
       "Tamil Nadu                    1328\n",
       "Punjab                        1523\n",
       "Himachal Pradesh              2544\n",
       "Gujarat                       2749\n",
       "Odisha                        3135\n",
       "Maharashtra                   4001\n",
       "Madhya Pradesh               10747\n",
       "Jharkhand                    11294\n",
       "Andhra Pradesh               16327\n",
       "Uttar Pradesh                28622\n",
       "Name: 0, dtype: int64"
      ]
     },
     "execution_count": 38,
     "metadata": {},
     "output_type": "execute_result"
    }
   ],
   "source": [
    "AWCR = {}\n",
    "for i in pol['Area_Name'].unique():\n",
    "    AWCR[i] = pol.loc[pol['Area_Name'] == i, 'CPA_-_Cases_Registered'].sum()\n",
    "AWCR\n",
    "Area_Wise_Complaint_Registered = pd.DataFrame(AWCR, columns=pol['Area_Name'].unique(), index=range(len(pol['Area_Name'].unique())))\n",
    "\n",
    "Area_Wise_Complaint_Registered = Area_Wise_Complaint_Registered.iloc[0,:]\n",
    "Area_Wise_Complaint_Registered.sort_values()"
   ]
  },
  {
   "cell_type": "markdown",
   "metadata": {},
   "source": [
    "We see that Daman & DIU has 0 cases registered against Police and Uttar Pradesh has highest number of cases registered against Police, but since there is a very huge population in UP so we can't yet say that cases registered are more per person per police personnel in a state."
   ]
  },
  {
   "cell_type": "code",
   "execution_count": 39,
   "metadata": {},
   "outputs": [],
   "source": [
    "pol['Cases_Deemed_Valid'] = pol['CPA_-_Cases_Registered'] - pol['CPA_-_Complaints/Cases_Declared_False/Unsubstantiated']"
   ]
  },
  {
   "cell_type": "code",
   "execution_count": 40,
   "metadata": {},
   "outputs": [
    {
     "data": {
      "text/plain": [
       "Madhya Pradesh              -106820\n",
       "Maharashtra                  -27876\n",
       "Punjab                       -24934\n",
       "Kerala                       -15904\n",
       "Chhattisgarh                 -12919\n",
       "Rajasthan                    -12768\n",
       "Haryana                      -10987\n",
       "Uttar Pradesh                 -7028\n",
       "Delhi                         -5671\n",
       "Uttarakhand                   -4136\n",
       "Jammu & Kashmir               -2726\n",
       "Chandigarh                    -1077\n",
       "Gujarat                        -831\n",
       "Goa                            -173\n",
       "Daman & Diu                       0\n",
       "Dadra & Nagar Haveli              2\n",
       "Lakshadweep                       2\n",
       "Manipur                           9\n",
       "Andaman & Nicobar Islands        15\n",
       "Puducherry                       29\n",
       "Mizoram                          41\n",
       "Meghalaya                        59\n",
       "Arunachal Pradesh               114\n",
       "Tripura                         115\n",
       "Nagaland                        125\n",
       "Sikkim                          133\n",
       "Assam                           137\n",
       "Bihar                           173\n",
       "Himachal Pradesh                260\n",
       "West Bengal                     285\n",
       "Karnataka                       530\n",
       "Tamil Nadu                     1232\n",
       "Odisha                         3092\n",
       "Jharkhand                     11215\n",
       "Andhra Pradesh                15172\n",
       "Name: 0, dtype: int64"
      ]
     },
     "execution_count": 40,
     "metadata": {},
     "output_type": "execute_result"
    }
   ],
   "source": [
    "AWCR = {}\n",
    "for i in pol['Area_Name'].unique():\n",
    "    AWCR[i] = pol.loc[pol['Area_Name'] == i, 'Cases_Deemed_Valid'].sum()\n",
    "AWCR\n",
    "Area_Wise_Complaint_Deemed_Valid = pd.DataFrame(AWCR, columns=pol['Area_Name'].unique(), index=range(len(pol['Area_Name'].unique())))\n",
    "\n",
    "Area_Wise_Complaint_Deemed_Valid = Area_Wise_Complaint_Deemed_Valid.iloc[0,:]\n",
    "Area_Wise_Complaint_Deemed_Valid.sort_values()"
   ]
  },
  {
   "cell_type": "markdown",
   "metadata": {},
   "source": [
    "Don't understand why there are some negative cases, as we have seen the number of cases deemed false are more then number of cases registered."
   ]
  },
  {
   "cell_type": "markdown",
   "metadata": {},
   "source": [
    "Cases deemed valid are most in Andhra then in Jharkhand and in UP which was topper in number of cases falls far behind in numbe rof valid cases, which i believe is a good thing."
   ]
  },
  {
   "cell_type": "code",
   "execution_count": 41,
   "metadata": {},
   "outputs": [],
   "source": [
    "pol['Enquired_Upon_Cases'] = pol['CPA_-_No_of_Departmental_Enquiries'] + pol['CPA_-_No_of_Magisterial_Enquiries'] + pol['CPA-_Cases_Sent_for_Trials/Charge-sheeted']"
   ]
  },
  {
   "cell_type": "code",
   "execution_count": 42,
   "metadata": {},
   "outputs": [
    {
     "data": {
      "text/plain": [
       "Lakshadweep                      1\n",
       "Dadra & Nagar Haveli             2\n",
       "Daman & Diu                      2\n",
       "Manipur                         13\n",
       "Puducherry                      22\n",
       "Goa                             44\n",
       "Mizoram                         66\n",
       "Meghalaya                       91\n",
       "Nagaland                       114\n",
       "Andaman & Nicobar Islands      139\n",
       "Sikkim                         158\n",
       "Himachal Pradesh               247\n",
       "Tripura                        316\n",
       "Assam                          400\n",
       "Bihar                          570\n",
       "Chandigarh                     607\n",
       "Arunachal Pradesh              631\n",
       "West Bengal                    932\n",
       "Jharkhand                     1394\n",
       "Odisha                        2477\n",
       "Karnataka                     3664\n",
       "Rajasthan                     3938\n",
       "Tamil Nadu                    4008\n",
       "Delhi                         5055\n",
       "Jammu & Kashmir               6058\n",
       "Haryana                       6589\n",
       "Uttarakhand                   7599\n",
       "Gujarat                       7927\n",
       "Chhattisgarh                  9332\n",
       "Maharashtra                  12666\n",
       "Punjab                       20417\n",
       "Kerala                       20658\n",
       "Andhra Pradesh               22915\n",
       "Uttar Pradesh                30137\n",
       "Madhya Pradesh               40610\n",
       "Name: 0, dtype: int64"
      ]
     },
     "execution_count": 42,
     "metadata": {},
     "output_type": "execute_result"
    }
   ],
   "source": [
    "AWCR = {}\n",
    "for i in pol['Area_Name'].unique():\n",
    "    AWCR[i] = pol.loc[pol['Area_Name'] == i, 'Enquired_Upon_Cases'].sum()\n",
    "AWCR\n",
    "Area_Wise_Enquired_Upon_Cases = pd.DataFrame(AWCR, columns=pol['Area_Name'].unique(), index=range(len(pol['Area_Name'].unique())))\n",
    "\n",
    "Area_Wise_Enquired_Upon_Cases = Area_Wise_Enquired_Upon_Cases.iloc[0,:]\n",
    "Area_Wise_Enquired_Upon_Cases.sort_values()"
   ]
  },
  {
   "cell_type": "markdown",
   "metadata": {},
   "source": [
    "Madhya Pradesh has higheat number of cases enquired upon(magesterial, departmental or Charge sheeted/ trialled cases), which clearly says that MP police department are most serious in context of cases filed against them. Followed by UP followed by AP."
   ]
  },
  {
   "cell_type": "code",
   "execution_count": 47,
   "metadata": {},
   "outputs": [
    {
     "data": {
      "text/plain": [
       "<pandas.core.groupby.generic.DataFrameGroupBy object at 0x000001A8697DDFA0>"
      ]
     },
     "execution_count": 47,
     "metadata": {},
     "output_type": "execute_result"
    }
   ],
   "source": [
    "pol['Number_Punishments_Rewarded'] = pol['CPC_-_Police_Personnel_Dismissal/Removal_from_Service'] + pol['CPC_-_Police_Personnel_Major_Punishment_awarded'] + pol['CPC_-_Police_Personnel_Minor_Punishment_awarded']\n",
    "group_AW = pol.groupby('Area_Name')\n",
    "group_AW"
   ]
  },
  {
   "cell_type": "code",
   "execution_count": 57,
   "metadata": {},
   "outputs": [
    {
     "name": "stdout",
     "output_type": "stream",
     "text": [
      "Andaman & Nicobar Islands\n",
      "Andhra Pradesh\n",
      "Arunachal Pradesh\n",
      "Assam\n",
      "Bihar\n",
      "Chandigarh\n",
      "Chhattisgarh\n",
      "Dadra & Nagar Haveli\n",
      "Daman & Diu\n",
      "Delhi\n",
      "Goa\n",
      "Gujarat\n",
      "Haryana\n",
      "Himachal Pradesh\n",
      "Jammu & Kashmir\n",
      "Jharkhand\n",
      "Karnataka\n",
      "Kerala\n",
      "Lakshadweep\n",
      "Madhya Pradesh\n",
      "Maharashtra\n",
      "Manipur\n",
      "Meghalaya\n",
      "Mizoram\n",
      "Nagaland\n",
      "Odisha\n",
      "Puducherry\n",
      "Punjab\n",
      "Rajasthan\n",
      "Sikkim\n",
      "Tamil Nadu\n",
      "Tripura\n",
      "Uttar Pradesh\n",
      "Uttarakhand\n",
      "West Bengal\n"
     ]
    }
   ],
   "source": [
    "for Area, AreaDF in group_AW:\n",
    "    print(Area)\n",
    "    #print(AreaDF)"
   ]
  },
  {
   "cell_type": "code",
   "execution_count": 84,
   "metadata": {},
   "outputs": [
    {
     "data": {
      "text/plain": [
       "Area_Name\n",
       "Lakshadweep                      0\n",
       "Dadra & Nagar Haveli             0\n",
       "Daman & Diu                      1\n",
       "Manipur                          5\n",
       "Nagaland                        32\n",
       "Puducherry                      80\n",
       "Mizoram                         97\n",
       "Sikkim                         143\n",
       "Arunachal Pradesh              297\n",
       "Andaman & Nicobar Islands      380\n",
       "Himachal Pradesh               542\n",
       "Haryana                        561\n",
       "Meghalaya                      888\n",
       "Goa                            890\n",
       "Chandigarh                    1111\n",
       "Assam                         1196\n",
       "Chhattisgarh                  1262\n",
       "Tripura                       1990\n",
       "Uttarakhand                   2960\n",
       "West Bengal                   3076\n",
       "Odisha                        3128\n",
       "Madhya Pradesh                3241\n",
       "Kerala                        3480\n",
       "Jharkhand                     3594\n",
       "Karnataka                     6534\n",
       "Bihar                         7838\n",
       "Tamil Nadu                   12818\n",
       "Gujarat                      13791\n",
       "Andhra Pradesh               15552\n",
       "Jammu & Kashmir              17185\n",
       "Maharashtra                  19048\n",
       "Delhi                        19904\n",
       "Uttar Pradesh                25978\n",
       "Rajasthan                    27232\n",
       "Punjab                       35545\n",
       "Name: Number_Punishments_Rewarded, dtype: int64"
      ]
     },
     "execution_count": 84,
     "metadata": {},
     "output_type": "execute_result"
    }
   ],
   "source": [
    "group_AW['Number_Punishments_Rewarded'].sum().sort_values()"
   ]
  },
  {
   "cell_type": "markdown",
   "metadata": {},
   "source": [
    "Worst police personnels are in Punjab"
   ]
  },
  {
   "cell_type": "code",
   "execution_count": 87,
   "metadata": {},
   "outputs": [
    {
     "data": {
      "text/plain": [
       "Area_Name                                                          object\n",
       "Year                                                                int64\n",
       "Sub_group                                                          object\n",
       "CPA_-_Cases_Registered                                              int64\n",
       "CPA_-_Cases_Reported_for_Dept._Action                               int64\n",
       "CPA_-_Complaints/Cases_Declared_False/Unsubstantiated               int64\n",
       "CPA_-_Complaints_Received/Alleged                                   int64\n",
       "CPA_-_No_of_Departmental_Enquiries                                  int64\n",
       "CPA_-_No_of_Magisterial_Enquiries                                   int64\n",
       "CPA-_Cases_Sent_for_Trials/Charge-sheeted                           int64\n",
       "CPA-_No_of_Judicial_Enquiries                                       int64\n",
       "CPB_-_Police_Personnel_Acquitted                                    int64\n",
       "CPB_-_Police_Personnel_Convicted                                    int64\n",
       "CPB_-_Police_Personnel_sent_up_for_Trial                            int64\n",
       "CPB_-_Police_Personnel_Trial_Completed                              int64\n",
       "CPB-_Police_Personnel_Cases_Withdrawn_or_Otherwise_disposed_of      int64\n",
       "CPC_-_Police_personnel_Cases_Trial_Completed                        int64\n",
       "CPC_-_Police_Personnel_Cases_Withdrawn_or_Otherwise_disposed_of     int64\n",
       "CPC_-_Police_Personnel_Disciplinary_Action_Initiated                int64\n",
       "CPC_-_Police_Personnel_Dismissal/Removal_from_Service               int64\n",
       "CPC_-_Police_Personnel_Major_Punishment_awarded                     int64\n",
       "CPC_-_Police_Personnel_Minor_Punishment_awarded                     int64\n",
       "Cases_Deemed_Valid                                                  int64\n",
       "Enquired_Upon_Cases                                                 int64\n",
       "Number_Punishments_Rewarded                                         int64\n",
       "dtype: object"
      ]
     },
     "execution_count": 87,
     "metadata": {},
     "output_type": "execute_result"
    }
   ],
   "source": [
    "pol.dtypes"
   ]
  },
  {
   "cell_type": "code",
   "execution_count": 89,
   "metadata": {},
   "outputs": [],
   "source": [
    "from sklearn.preprocessing import LabelEncoder\n",
    "le = LabelEncoder()"
   ]
  },
  {
   "cell_type": "code",
   "execution_count": 90,
   "metadata": {},
   "outputs": [
    {
     "data": {
      "text/plain": [
       "Area_Name                                                           int32\n",
       "Year                                                                int64\n",
       "Sub_group                                                          object\n",
       "CPA_-_Cases_Registered                                              int64\n",
       "CPA_-_Cases_Reported_for_Dept._Action                               int64\n",
       "CPA_-_Complaints/Cases_Declared_False/Unsubstantiated               int64\n",
       "CPA_-_Complaints_Received/Alleged                                   int64\n",
       "CPA_-_No_of_Departmental_Enquiries                                  int64\n",
       "CPA_-_No_of_Magisterial_Enquiries                                   int64\n",
       "CPA-_Cases_Sent_for_Trials/Charge-sheeted                           int64\n",
       "CPA-_No_of_Judicial_Enquiries                                       int64\n",
       "CPB_-_Police_Personnel_Acquitted                                    int64\n",
       "CPB_-_Police_Personnel_Convicted                                    int64\n",
       "CPB_-_Police_Personnel_sent_up_for_Trial                            int64\n",
       "CPB_-_Police_Personnel_Trial_Completed                              int64\n",
       "CPB-_Police_Personnel_Cases_Withdrawn_or_Otherwise_disposed_of      int64\n",
       "CPC_-_Police_personnel_Cases_Trial_Completed                        int64\n",
       "CPC_-_Police_Personnel_Cases_Withdrawn_or_Otherwise_disposed_of     int64\n",
       "CPC_-_Police_Personnel_Disciplinary_Action_Initiated                int64\n",
       "CPC_-_Police_Personnel_Dismissal/Removal_from_Service               int64\n",
       "CPC_-_Police_Personnel_Major_Punishment_awarded                     int64\n",
       "CPC_-_Police_Personnel_Minor_Punishment_awarded                     int64\n",
       "Cases_Deemed_Valid                                                  int64\n",
       "Enquired_Upon_Cases                                                 int64\n",
       "Number_Punishments_Rewarded                                         int64\n",
       "dtype: object"
      ]
     },
     "execution_count": 90,
     "metadata": {},
     "output_type": "execute_result"
    }
   ],
   "source": [
    "pol['Area_Name'] = le.fit_transform(pol['Area_Name'])\n",
    "pol.dtypes"
   ]
  },
  {
   "cell_type": "code",
   "execution_count": 91,
   "metadata": {},
   "outputs": [
    {
     "data": {
      "text/plain": [
       "<seaborn.axisgrid.FacetGrid at 0x1a8694578b0>"
      ]
     },
     "execution_count": 91,
     "metadata": {},
     "output_type": "execute_result"
    },
    {
     "data": {
      "image/png": "[encoded data removed]",
      "text/plain": [
       "<Figure size 360x360 with 1 Axes>"
      ]
     },
     "metadata": {
      "needs_background": "light"
     },
     "output_type": "display_data"
    }
   ],
   "source": [
    "sns.lmplot(x='Area_Name', y='Number_Punishments_Rewarded', data=pol)"
   ]
  },
  {
   "cell_type": "code",
   "execution_count": null,
   "metadata": {},
   "outputs": [],
   "source": []
  }
 ],
 "metadata": {
  "kernelspec": {
   "display_name": "Python 3",
   "language": "python",
   "name": "python3"
  },
  "language_info": {
   "codemirror_mode": {
    "name": "ipython",
    "version": 3
   },
   "file_extension": ".py",
   "mimetype": "text/x-python",
   "name": "python",
   "nbconvert_exporter": "python",
   "pygments_lexer": "ipython3",
   "version": "3.8.3"
  }
 },
 "nbformat": 4,
 "nbformat_minor": 4
}
